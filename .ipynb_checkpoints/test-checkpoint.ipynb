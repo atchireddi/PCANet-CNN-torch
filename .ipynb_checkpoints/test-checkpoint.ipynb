{
 "cells": [
  {
   "cell_type": "code",
   "execution_count": 1,
   "metadata": {
    "collapsed": true
   },
   "outputs": [],
   "source": [
    "-- Adapting Jean Honorio's filter SVD to Torch.\n",
    "torch.setdefaulttensortype('torch.FloatTensor')\n",
    "\n",
    "require 'image'\n",
    "matio = require 'matio'\n",
    "filter_size = 7\n",
    "delta = 0.01\n",
    "epsilon = 0.01\n",
    "\n",
    "-- upper triangular and diagonal has error less than epsilon, if features are in [0,1]\n",
    "random_samples = math.ceil((math.log(filter_size) + math.log(1/delta) / 2) / epsilon ^ 2)\n",
    "matdata = matio.load('caltech101_silhouettes_28_split1.mat')"
   ]
  },
  {
   "cell_type": "code",
   "execution_count": 18,
   "metadata": {
    "collapsed": false
   },
   "outputs": [],
   "source": [
    "num_images = matdata.train_data:size(1)\n",
    "X = matdata.train_data:reshape(torch.LongStorage{num_images, 28, 28})\n",
    "-- X = X:transpose(1,3):float():div(255)"
   ]
  },
  {
   "cell_type": "code",
   "execution_count": 25,
   "metadata": {
    "collapsed": false
   },
   "outputs": [
    {
     "data": {
      "image/png": "[encoded data removed]",
      "text/plain": [
       "Console does not support images"
      ]
     },
     "metadata": {
      "image/png": {
       "height": 28,
       "width": 28
      }
     },
     "output_type": "display_data"
    },
    {
     "data": {
      "text/plain": [
       "\n"
      ]
     },
     "execution_count": 25,
     "metadata": {},
     "output_type": "execute_result"
    }
   ],
   "source": []
  },
  {
   "cell_type": "code",
   "execution_count": 14,
   "metadata": {
    "collapsed": true
   },
   "outputs": [],
   "source": [
    "-- Output size and position\n",
    "sqrt_random_samples = math.sqrt(random_samples)\n",
    "output_size = torch.DoubleTensor{X:size(1), X:size(2)}:div(filter_size):floor()\n",
    "function input_pos(i, j) return torch.LongStorage{(i - 1) * filter_size, (j - 1) * filter_size} end"
   ]
  },
  {
   "cell_type": "code",
   "execution_count": 15,
   "metadata": {
    "collapsed": true
   },
   "outputs": [],
   "source": [
    "-- Random filter\n",
    "mu = torch.zeros(filter_size ^ 2, 1)\n",
    "C = torch.zeros(filter_size ^ 2, filter_size ^ 2)\n",
    "for t = 1, random_samples do\n",
    "\tk = math.ceil(num_images * torch.rand(1)[1])\n",
    "\ti = math.ceil(output_size[1] * torch.rand(1)[1])\n",
    "\tj = math.ceil(output_size[2] * torch.rand(1)[1])\n",
    "\tpos = input_pos(i, j)\n",
    "\tx = X[{{1 + pos[1], pos[1] + filter_size}, {1 + pos[2], pos[2] + filter_size}, k}]:clone()\n",
    "\tx1 = x:view(x:nElement(), 1):clone():div(random_samples)\n",
    "\tx2 = x:view(x:nElement(), 1):clone():div(sqrt_random_samples)\n",
    "\tmu:add(x1)\n",
    "\tC:add(x2 * x2:t())\t\n",
    "end\n",
    "C:add(-(mu * mu:t()))"
   ]
  },
  {
   "cell_type": "code",
   "execution_count": 16,
   "metadata": {
    "collapsed": true
   },
   "outputs": [],
   "source": [
    "-- Run PCA\n",
    "U, S = torch.svd(C)"
   ]
  },
  {
   "cell_type": "code",
   "execution_count": 17,
   "metadata": {
    "collapsed": false
   },
   "outputs": [
    {
     "data": {
      "text/plain": [
       "{\n",
       "  1 : FloatTensor - size: 7x7\n",
       "  2 : FloatTensor - size: 7x7\n",
       "  3 : FloatTensor - size: 7x7\n",
       "  4 : FloatTensor - size: 7x7\n",
       "  5 : FloatTensor - size: 7x7\n",
       "  6 : FloatTensor - size: 7x7\n",
       "  7 : FloatTensor - size: 7x7\n",
       "  8 : FloatTensor - size: 7x7\n",
       "  9 : FloatTensor - size: 7x7\n",
       "}\n"
      ]
     },
     "execution_count": 17,
     "metadata": {},
     "output_type": "execute_result"
    }
   ],
   "source": [
    "-- Retrieve and visualize the filters.\n",
    "n_filters = 9\n",
    "filters = {}\n",
    "min_val = U[{{},{1, n_filters}}]:min()\n",
    "max_val = U[{{},{1, n_filters}}]:max()\n",
    "for f = 1, n_filters do\n",
    "\tfilter = U[{{}, f}]:reshape(filter_size, filter_size)\n",
    "\ttable.insert(filters, filter)\n",
    "\tim_filter = image.scale((filter - min_val) / (max_val - min_val), 32, 32, 'simple')\n",
    "\tif f == 1 then\n",
    "\t\tim_buffer = im_filter:clone()\n",
    "\telse\n",
    "\t\tim_buffer = torch.cat(torch.cat(im_buffer, torch.zeros(32, 5), 2), im_filter, 2)\n",
    "\tend\n",
    "end\n",
    "image.save('filters.jpg', im_buffer)\n",
    "print(filters)"
   ]
  },
  {
   "cell_type": "code",
   "execution_count": null,
   "metadata": {
    "collapsed": true
   },
   "outputs": [],
   "source": []
  }
 ],
 "metadata": {
  "kernelspec": {
   "display_name": "iTorch",
   "language": "lua",
   "name": "itorch"
  },
  "language_info": {
   "name": "lua",
   "version": "5.1"
  }
 },
 "nbformat": 4,
 "nbformat_minor": 0
}
