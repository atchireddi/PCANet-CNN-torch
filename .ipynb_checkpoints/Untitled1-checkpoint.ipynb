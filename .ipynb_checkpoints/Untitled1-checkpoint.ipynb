{
 "cells": [
  {
   "cell_type": "code",
   "execution_count": 1,
   "metadata": {
    "collapsed": true
   },
   "outputs": [],
   "source": [
    "-- Adapting Jean Honorio's filter SVD to Torch.\n",
    "torch.setdefaulttensortype('torch.FloatTensor')\n",
    "\n",
    "require 'image'\n",
    "matio = require 'matio'\n",
    "filter_size = 7\n",
    "delta = 0.01\n",
    "epsilon = 0.01\n",
    "\n",
    "-- upper triangular and diagonal has error less than epsilon, if features are in [0,1]\n",
    "random_samples = math.ceil((math.log(filter_size) + math.log(1/delta) / 2) / epsilon ^ 2)\n",
    "matdata = matio.load('caltech101_silhouettes_28_split1.mat')"
   ]
  },
  {
   "cell_type": "code",
   "execution_count": 2,
   "metadata": {
    "collapsed": false
   },
   "outputs": [],
   "source": [
    "num_images = matdata.train_data:size(1)\n",
    "X = matdata.train_data:reshape(torch.LongStorage{num_images, 28, 28})\n",
    "X = X:transpose(1,3):float():div(255)"
   ]
  },
  {
   "cell_type": "code",
   "execution_count": 9,
   "metadata": {
    "collapsed": false
   },
   "outputs": [
    {
     "data": {
      "text/plain": [
       " 4100\n",
       "  784\n",
       "[torch.LongStorage of size 2]\n",
       "\n"
      ]
     },
     "execution_count": 9,
     "metadata": {},
     "output_type": "execute_result"
    }
   ],
   "source": [
    "#matdata.train_data"
   ]
  },
  {
   "cell_type": "code",
   "execution_count": 10,
   "metadata": {
    "collapsed": false
   },
   "outputs": [
    {
     "data": {
      "text/plain": [
       "   28\n",
       "   28\n",
       " 4100\n",
       "[torch.LongStorage of size 3]\n",
       "\n"
      ]
     },
     "execution_count": 10,
     "metadata": {},
     "output_type": "execute_result"
    }
   ],
   "source": [
    "#X"
   ]
  },
  {
   "cell_type": "code",
   "execution_count": 5,
   "metadata": {
    "collapsed": true
   },
   "outputs": [],
   "source": [
    "-- Output size and position\n",
    "sqrt_random_samples = math.sqrt(random_samples)\n",
    "output_size = torch.DoubleTensor{X:size(1), X:size(2)}:div(filter_size):floor()\n",
    "function input_pos(i, j) return torch.LongStorage{(i - 1) * filter_size, (j - 1) * filter_size} end"
   ]
  },
  {
   "cell_type": "code",
   "execution_count": 6,
   "metadata": {
    "collapsed": true
   },
   "outputs": [],
   "source": [
    "-- Random filter\n",
    "mu = torch.zeros(filter_size ^ 2, 1)\n",
    "C = torch.zeros(filter_size ^ 2, filter_size ^ 2)\n",
    "for t = 1, random_samples do\n",
    "\tk = math.ceil(num_images * torch.rand(1)[1])\n",
    "\ti = math.ceil(output_size[1] * torch.rand(1)[1])\n",
    "\tj = math.ceil(output_size[2] * torch.rand(1)[1])\n",
    "\tpos = input_pos(i, j)\n",
    "\tx = X[{{1 + pos[1], pos[1] + filter_size}, {1 + pos[2], pos[2] + filter_size}, k}]:clone()\n",
    "\tx1 = x:view(x:nElement(), 1):clone():div(random_samples)\n",
    "\tx2 = x:view(x:nElement(), 1):clone():div(sqrt_random_samples)\n",
    "\tmu:add(x1)\n",
    "\tC:add(x2 * x2:t())\t\n",
    "end\n",
    "C:add(-(mu * mu:t()))"
   ]
  },
  {
   "cell_type": "code",
   "execution_count": 7,
   "metadata": {
    "collapsed": true
   },
   "outputs": [],
   "source": [
    "-- Run PCA\n",
    "U, S = torch.svd(C)\n",
    "\n",
    "-- torch.svd([resu, ress, resv,] a [, 'S' or 'A'])\n",
    "-- U, S, V = torch.svd(A) returns the singular value decomposition of a real matrix A of size n × m such that A = USV'*.\n",
    "-- U is n × n, S is n × m and V is m × m"
   ]
  },
  {
   "cell_type": "code",
   "execution_count": 8,
   "metadata": {
    "collapsed": false
   },
   "outputs": [
    {
     "data": {
      "text/plain": [
       "{\n"
      ]
     },
     "execution_count": 8,
     "metadata": {},
     "output_type": "execute_result"
    },
    {
     "data": {
      "text/plain": [
       "  1 : FloatTensor - size: 7x7\n",
       "  2 : FloatTensor - size: 7x7\n",
       "  3 : FloatTensor - size: 7x7\n",
       "  4 : FloatTensor - size: 7x7\n",
       "  5 : FloatTensor - size: 7x7\n",
       "  6 : FloatTensor - size: 7x7\n",
       "  7 : FloatTensor - size: 7x7\n",
       "  8 : FloatTensor - size: 7x7\n",
       "  9 : FloatTensor - size: 7x7\n",
       "}\n"
      ]
     },
     "execution_count": 8,
     "metadata": {},
     "output_type": "execute_result"
    }
   ],
   "source": [
    "-- Retrieve and visualize the filters.\n",
    "n_filters = 9\n",
    "filters = {}\n",
    "min_val = U[{{},{1, n_filters}}]:min()\n",
    "max_val = U[{{},{1, n_filters}}]:max()\n",
    "for f = 1, n_filters do\n",
    "\tfilter = U[{{}, f}]:reshape(filter_size, filter_size)\n",
    "\ttable.insert(filters, filter)\n",
    "\tim_filter = image.scale((filter - min_val) / (max_val - min_val), 32, 32, 'simple')\n",
    "\tif f == 1 then\n",
    "\t\tim_buffer = im_filter:clone()\n",
    "\telse\n",
    "\t\tim_buffer = torch.cat(torch.cat(im_buffer, torch.zeros(32, 5), 2), im_filter, 2)\n",
    "\tend\n",
    "end\n",
    "image.save('filters.jpg', im_buffer)\n",
    "print(filters)"
   ]
  },
  {
   "cell_type": "code",
   "execution_count": 2,
   "metadata": {
    "collapsed": false
   },
   "outputs": [],
   "source": [
    "PCANet = require 'PCANet'\n"
   ]
  },
  {
   "cell_type": "code",
   "execution_count": 3,
   "metadata": {
    "collapsed": false
   },
   "outputs": [],
   "source": [
    "output = PCANet.im2col_mean_removal(torch.randn(3,32,32),3,3,1,1,0,0,true)"
   ]
  },
  {
   "cell_type": "code",
   "execution_count": 4,
   "metadata": {
    "collapsed": false
   },
   "outputs": [
    {
     "data": {
      "text/plain": [
       "    9\n",
       " 2700\n",
       "[torch.LongStorage of size 2]\n",
       "\n"
      ]
     },
     "execution_count": 4,
     "metadata": {},
     "output_type": "execute_result"
    }
   ],
   "source": [
    "#output"
   ]
  },
  {
   "cell_type": "code",
   "execution_count": 5,
   "metadata": {
    "collapsed": false
   },
   "outputs": [],
   "source": [
    "InImgs = torch.randn(500, 3,32,32)"
   ]
  },
  {
   "cell_type": "code",
   "execution_count": 6,
   "metadata": {
    "collapsed": false
   },
   "outputs": [],
   "source": [
    "e,V = PCANet.PCA_FilterBank(InImgs,3,3,1,1,0,0, 7, MaxSamples)"
   ]
  },
  {
   "cell_type": "code",
   "execution_count": 7,
   "metadata": {
    "collapsed": false
   },
   "outputs": [
    {
     "data": {
      "text/plain": [
       " 7\n",
       " 9\n",
       "[torch.LongStorage of size 2]\n",
       "\n"
      ]
     },
     "execution_count": 7,
     "metadata": {},
     "output_type": "execute_result"
    }
   ],
   "source": [
    "#V"
   ]
  },
  {
   "cell_type": "code",
   "execution_count": 8,
   "metadata": {
    "collapsed": false
   },
   "outputs": [],
   "source": [
    "output = PCANet.PCA_output(InImgs,3,3,1,1,0,0,V)"
   ]
  },
  {
   "cell_type": "code",
   "execution_count": 9,
   "metadata": {
    "collapsed": false,
    "scrolled": true
   },
   "outputs": [
    {
     "data": {
      "text/plain": [
       " 3500\n",
       "    3\n",
       "   30\n",
       "   30\n",
       "[torch.LongStorage of size 4]\n",
       "\n"
      ]
     },
     "execution_count": 9,
     "metadata": {},
     "output_type": "execute_result"
    }
   ],
   "source": [
    "#output"
   ]
  },
  {
   "cell_type": "code",
   "execution_count": 5,
   "metadata": {
    "collapsed": false
   },
   "outputs": [],
   "source": [
    "PCANet = require 'PCANet'\n"
   ]
  },
  {
   "cell_type": "code",
   "execution_count": 6,
   "metadata": {
    "collapsed": false
   },
   "outputs": [
    {
     "data": {
      "text/plain": [
       "true\t\n"
      ]
     },
     "execution_count": 6,
     "metadata": {},
     "output_type": "execute_result"
    }
   ],
   "source": [
    "InImgs = torch.randn(100, 3,32,32)\n",
    "opts = {}\n",
    "opts.NumFilters = {8,8}\n",
    "\n",
    "print (opts.NumFilters~=nil)"
   ]
  },
  {
   "cell_type": "code",
   "execution_count": 7,
   "metadata": {
    "collapsed": false
   },
   "outputs": [
    {
     "data": {
      "text/plain": [
       "Computing PCA filter bank and its outputs at stage 1 ...\t\n"
      ]
     },
     "execution_count": 7,
     "metadata": {},
     "output_type": "execute_result"
    },
    {
     "data": {
      "text/plain": [
       "Computing PCA filter bank and its outputs at stage 2 ...\t\n"
      ]
     },
     "execution_count": 7,
     "metadata": {},
     "output_type": "execute_result"
    }
   ],
   "source": [
    "V = PCANet.PCANet_train(InImgs,opts)"
   ]
  },
  {
   "cell_type": "code",
   "execution_count": 8,
   "metadata": {
    "collapsed": false
   },
   "outputs": [
    {
     "data": {
      "text/plain": [
       "{\n",
       "  1 : DoubleTensor - size: 7x9\n",
       "  2 : DoubleTensor - size: 8x9\n",
       "}\n"
      ]
     },
     "execution_count": 8,
     "metadata": {},
     "output_type": "execute_result"
    }
   ],
   "source": [
    "V"
   ]
  },
  {
   "cell_type": "code",
   "execution_count": 15,
   "metadata": {
    "collapsed": false
   },
   "outputs": [
    {
     "ename": "invalid arguments: DoubleTensor DoubleTensor \nexpected arguments: [*DoubleTensor*] DoubleTensor~2D DoubleTensor~2D\nstack traceback:\n\t[C]: at 0x0e5ff2f0\n\t[C]: in function 'mm'\n\t[string \"    local N = InImgs:size(1)...\"]:14: in main chunk\n\t[C]: in function 'xpcall'\n\t/Users/zhangyin/torch/install/share/lua/5.1/itorch/main.lua:209: in function </Users/zhangyin/torch/install/share/lua/5.1/itorch/main.lua:173>\n\t/Users/zhangyin/torch/install/share/lua/5.1/lzmq/poller.lua:75: in function 'poll'\n\t.../zhangyin/torch/install/share/lua/5.1/lzmq/impl/loop.lua:307: in function 'poll'\n\t.../zhangyin/torch/install/share/lua/5.1/lzmq/impl/loop.lua:325: in function 'sleep_ex'\n\t.../zhangyin/torch/install/share/lua/5.1/lzmq/impl/loop.lua:370: in function 'start'\n\t/Users/zhangyin/torch/install/share/lua/5.1/itorch/main.lua:381: in main chunk\n\t[C]: in function 'require'\n\t(command line):1: in main chunk\n\t[C]: at 0x010e36abc0",
     "evalue": "",
     "output_type": "error",
     "traceback": [
      "invalid arguments: DoubleTensor DoubleTensor \nexpected arguments: [*DoubleTensor*] DoubleTensor~2D DoubleTensor~2D\nstack traceback:\n\t[C]: at 0x0e5ff2f0\n\t[C]: in function 'mm'\n\t[string \"    local N = InImgs:size(1)...\"]:14: in main chunk\n\t[C]: in function 'xpcall'\n\t/Users/zhangyin/torch/install/share/lua/5.1/itorch/main.lua:209: in function </Users/zhangyin/torch/install/share/lua/5.1/itorch/main.lua:173>\n\t/Users/zhangyin/torch/install/share/lua/5.1/lzmq/poller.lua:75: in function 'poll'\n\t.../zhangyin/torch/install/share/lua/5.1/lzmq/impl/loop.lua:307: in function 'poll'\n\t.../zhangyin/torch/install/share/lua/5.1/lzmq/impl/loop.lua:325: in function 'sleep_ex'\n\t.../zhangyin/torch/install/share/lua/5.1/lzmq/impl/loop.lua:370: in function 'start'\n\t/Users/zhangyin/torch/install/share/lua/5.1/itorch/main.lua:381: in main chunk\n\t[C]: in function 'require'\n\t(command line):1: in main chunk\n\t[C]: at 0x010e36abc0"
     ]
    }
   ],
   "source": [
    "    local N = InImgs:size(1)\n",
    "    local C = InImgs:size(2)\n",
    "    local W = InImgs:size(3)\n",
    "    local H = InImgs:size(4)\n",
    "    local n_filter = V:size(1)\n",
    "\n",
    "    local outImgs = {}\n",
    "    -- the dimension of out image (N,oC,oW,oH)\n",
    "    local oH = 30  -- Height of output\n",
    "    local oW = 30 -- Width of output\n",
    "i=1\n",
    "        img = InImgs[i]\n",
    "        xi = PCANet.im2col_mean_removal(img,3,3,1,1,0,0,true)\n",
    "        local score = torch.mm(V,xi):reshape(C,oW,oH)   -- just simple matrix multiplication to get the PCA scores\n",
    "-- --         output[i] = score"
   ]
  },
  {
   "cell_type": "code",
   "execution_count": 20,
   "metadata": {
    "collapsed": false
   },
   "outputs": [
    {
     "data": {
      "text/plain": [
       " 9\n",
       "[torch.LongStorage of size 1]\n",
       "\n"
      ]
     },
     "execution_count": 20,
     "metadata": {},
     "output_type": "execute_result"
    }
   ],
   "source": []
  },
  {
   "cell_type": "code",
   "execution_count": 13,
   "metadata": {
    "collapsed": false
   },
   "outputs": [],
   "source": [
    "a = torch.Tensor(4,5);b = torch.Tensor(4,5)"
   ]
  },
  {
   "cell_type": "code",
   "execution_count": 15,
   "metadata": {
    "collapsed": false
   },
   "outputs": [
    {
     "ename": "[string \"local f = function() return a:index(-1) end; ...\"]:1: torch.DoubleTensor, number, torch.LongTensor | torch.DoubleTensor, torch.DoubleTensor, number, torch.LongTensor expected at /Users/zhangyin/torch/pkg/torch/generic/Tensor.c:410\nstack traceback:\n\t[C]: in function 'f'\n\t[string \"local f = function() return a:index(-1) end; ...\"]:1: in main chunk\n\t[C]: in function 'xpcall'\n\t/Users/zhangyin/torch/install/share/lua/5.1/itorch/main.lua:209: in function </Users/zhangyin/torch/install/share/lua/5.1/itorch/main.lua:173>\n\t/Users/zhangyin/torch/install/share/lua/5.1/lzmq/poller.lua:75: in function 'poll'\n\t.../zhangyin/torch/install/share/lua/5.1/lzmq/impl/loop.lua:307: in function 'poll'\n\t.../zhangyin/torch/install/share/lua/5.1/lzmq/impl/loop.lua:325: in function 'sleep_ex'\n\t.../zhangyin/torch/install/share/lua/5.1/lzmq/impl/loop.lua:370: in function 'start'\n\t/Users/zhangyin/torch/install/share/lua/5.1/itorch/main.lua:381: in main chunk\n\t[C]: in function 'require'\n\t(command line):1: in main chunk\n\t[C]: at 0x010a4a4bc0",
     "evalue": "",
     "output_type": "error",
     "traceback": [
      "[string \"local f = function() return a:index(-1) end; ...\"]:1: torch.DoubleTensor, number, torch.LongTensor | torch.DoubleTensor, torch.DoubleTensor, number, torch.LongTensor expected at /Users/zhangyin/torch/pkg/torch/generic/Tensor.c:410\nstack traceback:\n\t[C]: in function 'f'\n\t[string \"local f = function() return a:index(-1) end; ...\"]:1: in main chunk\n\t[C]: in function 'xpcall'\n\t/Users/zhangyin/torch/install/share/lua/5.1/itorch/main.lua:209: in function </Users/zhangyin/torch/install/share/lua/5.1/itorch/main.lua:173>\n\t/Users/zhangyin/torch/install/share/lua/5.1/lzmq/poller.lua:75: in function 'poll'\n\t.../zhangyin/torch/install/share/lua/5.1/lzmq/impl/loop.lua:307: in function 'poll'\n\t.../zhangyin/torch/install/share/lua/5.1/lzmq/impl/loop.lua:325: in function 'sleep_ex'\n\t.../zhangyin/torch/install/share/lua/5.1/lzmq/impl/loop.lua:370: in function 'start'\n\t/Users/zhangyin/torch/install/share/lua/5.1/itorch/main.lua:381: in main chunk\n\t[C]: in function 'require'\n\t(command line):1: in main chunk\n\t[C]: at 0x010a4a4bc0"
     ]
    }
   ],
   "source": []
  },
  {
   "cell_type": "code",
   "execution_count": 12,
   "metadata": {
    "collapsed": false
   },
   "outputs": [
    {
     "data": {
      "text/plain": [
       "\n"
      ]
     },
     "execution_count": 12,
     "metadata": {},
     "output_type": "execute_result"
    }
   ],
   "source": [
    "a[-1]"
   ]
  },
  {
   "cell_type": "code",
   "execution_count": 25,
   "metadata": {
    "collapsed": false
   },
   "outputs": [],
   "source": [
    "a = torch.randn(2,3,4)"
   ]
  },
  {
   "cell_type": "code",
   "execution_count": 26,
   "metadata": {
    "collapsed": false,
    "scrolled": true
   },
   "outputs": [
    {
     "data": {
      "text/plain": [
       "(1,.,.) = \n",
       "  1  0  1  0\n",
       "  0  1  0  1\n",
       "  1  1  1  1\n",
       "\n",
       "(2,.,.) = \n",
       "  1  0  0  0\n",
       "  0  1  0  1\n",
       "  0  1  0  0\n",
       "[torch.DoubleTensor of size 2x3x4]\n",
       "\n"
      ]
     },
     "execution_count": 26,
     "metadata": {},
     "output_type": "execute_result"
    }
   ],
   "source": [
    "a:apply(function(x) if x>0 then return 1 else return 0 end end  )"
   ]
  },
  {
   "cell_type": "code",
   "execution_count": 27,
   "metadata": {
    "collapsed": false
   },
   "outputs": [],
   "source": [
    "i=4\n",
    "a:apply(function(x)  \n",
    "        i=i-1\n",
    "        return (2^i) *x end)"
   ]
  },
  {
   "cell_type": "code",
   "execution_count": 28,
   "metadata": {
    "collapsed": false
   },
   "outputs": [
    {
     "data": {
      "text/plain": [
       "(1,.,.) = \n",
       "  8.0000  0.0000  2.0000  0.0000\n",
       "  0.0000  0.2500  0.0000  0.0625\n",
       "  0.0312  0.0156  0.0078  0.0039\n",
       "\n",
       "(2,.,.) = \n",
       "  0.0020  0.0000  0.0000  0.0000\n",
       "  0.0000  0.0001  0.0000  0.0000\n",
       "  0.0000  0.0000  0.0000  0.0000\n",
       "[torch.DoubleTensor of size 2x3x4]\n",
       "\n"
      ]
     },
     "execution_count": 28,
     "metadata": {},
     "output_type": "execute_result"
    }
   ],
   "source": [
    "a"
   ]
  },
  {
   "cell_type": "code",
   "execution_count": 50,
   "metadata": {
    "collapsed": false
   },
   "outputs": [
    {
     "data": {
      "text/plain": [
       "  7\n",
       "  3\n",
       " 30\n",
       " 30\n",
       "[torch.LongStorage of size 4]\n",
       "\n"
      ]
     },
     "execution_count": 50,
     "metadata": {},
     "output_type": "execute_result"
    }
   ],
   "source": [
    "#xx"
   ]
  },
  {
   "cell_type": "code",
   "execution_count": 51,
   "metadata": {
    "collapsed": true
   },
   "outputs": [],
   "source": [
    "a = {}"
   ]
  },
  {
   "cell_type": "code",
   "execution_count": 33,
   "metadata": {
    "collapsed": false
   },
   "outputs": [],
   "source": [
    "local m=a[1]; n=a[2]"
   ]
  },
  {
   "cell_type": "code",
   "execution_count": 35,
   "metadata": {
    "collapsed": false
   },
   "outputs": [
    {
     "data": {
      "text/plain": [
       "\n"
      ]
     },
     "execution_count": 35,
     "metadata": {},
     "output_type": "execute_result"
    }
   ],
   "source": [
    "m"
   ]
  },
  {
   "cell_type": "code",
   "execution_count": 21,
   "metadata": {
    "collapsed": false
   },
   "outputs": [
    {
     "data": {
      "text/plain": [
       "true\t\n"
      ]
     },
     "execution_count": 21,
     "metadata": {},
     "output_type": "execute_result"
    }
   ],
   "source": [
    "n_f = {7,7,4,3}\n",
    "print (#n_f~=3)"
   ]
  },
  {
   "cell_type": "code",
   "execution_count": 18,
   "metadata": {
    "collapsed": false
   },
   "outputs": [
    {
     "data": {
      "text/plain": [
       "Computing PCA filter bank and its outputs at stage 2\t\n"
      ]
     },
     "execution_count": 18,
     "metadata": {},
     "output_type": "execute_result"
    }
   ],
   "source": [
    "stage = 2\n",
    "print(string.format(\"Computing PCA filter bank and its outputs at stage %d\", stage))"
   ]
  },
  {
   "cell_type": "code",
   "execution_count": 29,
   "metadata": {
    "collapsed": false
   },
   "outputs": [
    {
     "ename": "[string \"print(('sum(y_hat) = %.6f'):format(y_hat:sum(...\"]:1: attempt to index global 'y_hat' (a nil value)\nstack traceback:\n\t[string \"print(('sum(y_hat) = %.6f'):format(y_hat:sum(...\"]:1: in main chunk\n\t[C]: in function 'xpcall'\n\t/Users/zhangyin/torch/install/share/lua/5.1/itorch/main.lua:209: in function </Users/zhangyin/torch/install/share/lua/5.1/itorch/main.lua:173>\n\t/Users/zhangyin/torch/install/share/lua/5.1/lzmq/poller.lua:75: in function 'poll'\n\t.../zhangyin/torch/install/share/lua/5.1/lzmq/impl/loop.lua:307: in function 'poll'\n\t.../zhangyin/torch/install/share/lua/5.1/lzmq/impl/loop.lua:325: in function 'sleep_ex'\n\t.../zhangyin/torch/install/share/lua/5.1/lzmq/impl/loop.lua:370: in function 'start'\n\t/Users/zhangyin/torch/install/share/lua/5.1/itorch/main.lua:381: in main chunk\n\t[C]: in function 'require'\n\t(command line):1: in main chunk\n\t[C]: at 0x010a4a4bc0",
     "evalue": "",
     "output_type": "error",
     "traceback": [
      "[string \"print(('sum(y_hat) = %.6f'):format(y_hat:sum(...\"]:1: attempt to index global 'y_hat' (a nil value)\nstack traceback:\n\t[string \"print(('sum(y_hat) = %.6f'):format(y_hat:sum(...\"]:1: in main chunk\n\t[C]: in function 'xpcall'\n\t/Users/zhangyin/torch/install/share/lua/5.1/itorch/main.lua:209: in function </Users/zhangyin/torch/install/share/lua/5.1/itorch/main.lua:173>\n\t/Users/zhangyin/torch/install/share/lua/5.1/lzmq/poller.lua:75: in function 'poll'\n\t.../zhangyin/torch/install/share/lua/5.1/lzmq/impl/loop.lua:307: in function 'poll'\n\t.../zhangyin/torch/install/share/lua/5.1/lzmq/impl/loop.lua:325: in function 'sleep_ex'\n\t.../zhangyin/torch/install/share/lua/5.1/lzmq/impl/loop.lua:370: in function 'start'\n\t/Users/zhangyin/torch/install/share/lua/5.1/itorch/main.lua:381: in main chunk\n\t[C]: in function 'require'\n\t(command line):1: in main chunk\n\t[C]: at 0x010a4a4bc0"
     ]
    }
   ],
   "source": [
    "print(('sum(y_hat) = %.6f'):format(y_hat:sum()))"
   ]
  },
  {
   "cell_type": "code",
   "execution_count": 42,
   "metadata": {
    "collapsed": false
   },
   "outputs": [
    {
     "data": {
      "text/plain": [
       " 256\n",
       "[torch.LongStorage of size 1]\n",
       "\n"
      ]
     },
     "execution_count": 42,
     "metadata": {},
     "output_type": "execute_result"
    }
   ],
   "source": [
    "#torch.histc(torch.Tensor{{1,2,2,4,5},{1,2,2,4,5}}, 256, 0, 255)"
   ]
  },
  {
   "cell_type": "code",
   "execution_count": 41,
   "metadata": {
    "collapsed": false
   },
   "outputs": [
    {
     "data": {
      "text/plain": [
       " 1  2  2  4  5\n",
       " 1  2  2  4  5\n",
       "[torch.DoubleTensor of size 2x5]\n",
       "\n"
      ]
     },
     "execution_count": 41,
     "metadata": {},
     "output_type": "execute_result"
    }
   ],
   "source": [
    "torch.Tensor{{1,2,2,4,5},{1,2,2,4,5}}"
   ]
  },
  {
   "cell_type": "code",
   "execution_count": 43,
   "metadata": {
    "collapsed": true
   },
   "outputs": [],
   "source": []
  },
  {
   "cell_type": "code",
   "execution_count": 1,
   "metadata": {
    "collapsed": false
   },
   "outputs": [
    {
     "ename": "[string \"InImg = torch.rand(3,32,32)...\"]:2: attempt to index global 'util' (a nil value)\nstack traceback:\n\t[string \"InImg = torch.rand(3,32,32)...\"]:2: in main chunk\n\t[C]: in function 'xpcall'\n\t/Users/zhangyin/torch/install/share/lua/5.1/itorch/main.lua:209: in function </Users/zhangyin/torch/install/share/lua/5.1/itorch/main.lua:173>\n\t/Users/zhangyin/torch/install/share/lua/5.1/lzmq/poller.lua:75: in function 'poll'\n\t.../zhangyin/torch/install/share/lua/5.1/lzmq/impl/loop.lua:307: in function 'poll'\n\t.../zhangyin/torch/install/share/lua/5.1/lzmq/impl/loop.lua:325: in function 'sleep_ex'\n\t.../zhangyin/torch/install/share/lua/5.1/lzmq/impl/loop.lua:370: in function 'start'\n\t/Users/zhangyin/torch/install/share/lua/5.1/itorch/main.lua:381: in main chunk\n\t[C]: in function 'require'\n\t(command line):1: in main chunk\n\t[C]: at 0x0107768bc0",
     "evalue": "",
     "output_type": "error",
     "traceback": [
      "[string \"InImg = torch.rand(3,32,32)...\"]:2: attempt to index global 'util' (a nil value)\nstack traceback:\n\t[string \"InImg = torch.rand(3,32,32)...\"]:2: in main chunk\n\t[C]: in function 'xpcall'\n\t/Users/zhangyin/torch/install/share/lua/5.1/itorch/main.lua:209: in function </Users/zhangyin/torch/install/share/lua/5.1/itorch/main.lua:173>\n\t/Users/zhangyin/torch/install/share/lua/5.1/lzmq/poller.lua:75: in function 'poll'\n\t.../zhangyin/torch/install/share/lua/5.1/lzmq/impl/loop.lua:307: in function 'poll'\n\t.../zhangyin/torch/install/share/lua/5.1/lzmq/impl/loop.lua:325: in function 'sleep_ex'\n\t.../zhangyin/torch/install/share/lua/5.1/lzmq/impl/loop.lua:370: in function 'start'\n\t/Users/zhangyin/torch/install/share/lua/5.1/itorch/main.lua:381: in main chunk\n\t[C]: in function 'require'\n\t(command line):1: in main chunk\n\t[C]: at 0x0107768bc0"
     ]
    }
   ],
   "source": [
    "InImg = torch.rand(3,32,32)\n",
    "output = util.im2col_mean_removal(InImg,3,3,1,1,0,0,true)"
   ]
  },
  {
   "cell_type": "code",
   "execution_count": 7,
   "metadata": {
    "collapsed": false
   },
   "outputs": [],
   "source": [
    "require 'PCANet'\n",
    "util = require 'util';"
   ]
  },
  {
   "cell_type": "code",
   "execution_count": 8,
   "metadata": {
    "collapsed": false
   },
   "outputs": [],
   "source": [
    "pcanet = PCANet()"
   ]
  },
  {
   "cell_type": "code",
   "execution_count": 9,
   "metadata": {
    "collapsed": false
   },
   "outputs": [
    {
     "data": {
      "text/plain": [
       "Computing PCA filter bank and its outputs at stage 1 ...\t\n"
      ]
     },
     "execution_count": 9,
     "metadata": {},
     "output_type": "execute_result"
    },
    {
     "data": {
      "text/plain": [
       "Computing PCA filter bank and its outputs at stage 2 ...\t\n"
      ]
     },
     "execution_count": 9,
     "metadata": {},
     "output_type": "execute_result"
    },
    {
     "data": {
      "text/plain": [
       "PCA filter bank training completed!\t\n"
      ]
     },
     "execution_count": 9,
     "metadata": {},
     "output_type": "execute_result"
    }
   ],
   "source": [
    "InImgs = torch.randn(100,1,32,32)\n",
    "-- V = pcanet:PCA_FilterBank(InImgs,100000)\n",
    "-- o = util.im2col_mean_removal(InImgs[1],7,7,1,1,0,0,true)\n",
    "pcanet:PCANet_train(InImgs)\n"
   ]
  },
  {
   "cell_type": "code",
   "execution_count": 11,
   "metadata": {
    "collapsed": false
   },
   "outputs": [],
   "source": [
    "InImg = torch.randn(1,1,32,32)\n",
    "InImg = pcanet:PCA_output(InImg,1)\n",
    "InImg = pcanet:PCA_output(InImg,2)\n",
    "f = pcanet:HashingHist(InImg)"
   ]
  },
  {
   "cell_type": "code",
   "execution_count": 12,
   "metadata": {
    "collapsed": false
   },
   "outputs": [],
   "source": [
    "features = pcanet:PCANet_FeaExt(InImgs)"
   ]
  },
  {
   "cell_type": "code",
   "execution_count": 13,
   "metadata": {
    "collapsed": false
   },
   "outputs": [
    {
     "data": {
      "text/plain": [
       "   100\n",
       " 61440\n",
       "[torch.LongStorage of size 2]\n",
       "\n"
      ]
     },
     "execution_count": 13,
     "metadata": {},
     "output_type": "execute_result"
    }
   ],
   "source": [
    "print (#features)"
   ]
  },
  {
   "cell_type": "code",
   "execution_count": null,
   "metadata": {
    "collapsed": true
   },
   "outputs": [],
   "source": []
  }
 ],
 "metadata": {
  "kernelspec": {
   "display_name": "iTorch",
   "language": "lua",
   "name": "itorch"
  },
  "language_info": {
   "name": "lua",
   "version": "5.1"
  }
 },
 "nbformat": 4,
 "nbformat_minor": 0
}
