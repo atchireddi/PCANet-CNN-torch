{
 "cells": [
  {
   "cell_type": "code",
   "execution_count": 1,
   "metadata": {
    "collapsed": true
   },
   "outputs": [],
   "source": [
    "require 'nn'\n",
    "torch.setdefaulttensortype('torch.FloatTensor')\n",
    "require 'image'\n"
   ]
  },
  {
   "cell_type": "code",
   "execution_count": 2,
   "metadata": {
    "collapsed": true
   },
   "outputs": [],
   "source": [
    "classes = {'airplane', 'automobile', 'bird', 'cat', 'deer',\n",
    "           'dog', 'frog', 'horse', 'ship', 'truck'}\n",
    "class2ids = {}  -- Build a mapping between object names and class ids.\n",
    "for k,v in pairs(classes) do class2ids[v] = k end"
   ]
  },
  {
   "cell_type": "code",
   "execution_count": 13,
   "metadata": {
    "collapsed": true
   },
   "outputs": [],
   "source": [
    "function load_test_data()\n",
    "\ttesize = 10000\n",
    "\t-- download dataset\n",
    "\tif not paths.dirp('cifar-10-batches-t7') then\n",
    "\t   print (\"dataset not found, downloading the dataset...\")\n",
    "\t   local www = 'http://torch7.s3-website-us-east-1.amazonaws.com/data/cifar-10-torch.tar.gz'\n",
    "\t   local tar = paths.basename(www)\n",
    "\t   print (\"uncompressing...\")\n",
    "\t   os.execute('wget ' .. www .. '; '.. 'tar xvf ' .. tar)\n",
    "\tend\n",
    "\n",
    "\tsubset = torch.load('cifar-10-batches-t7/test_batch.t7', 'ascii')\n",
    "\ttestData = {\n",
    "\t   data = subset.data:t():double(),\n",
    "\t   labels = subset.labels[1]:double(),\n",
    "\t}\n",
    "\ttestData.labels = testData.labels + 1\n",
    "\n",
    "\ttestData.data = testData.data[{ {1,tesize} }]\n",
    "\ttestData.labels = testData.labels[{ {1,tesize} }]\n",
    "\n",
    "\n",
    "\ttestData.data = testData.data:reshape(tesize,3,32,32)\n",
    "\n",
    "\ttestData.normdata = testData.data:clone():float()\n",
    "\n",
    "\n",
    " \tcifarInfo = torch.load(\"model/cifarInfo.t7\")\n",
    " \tcifarMean = cifarInfo.mean\n",
    " \tcifarStd = cifarInfo.std\n",
    "\t-- Now normalize the training and validation data.\n",
    "\tfor i  = 1, 3 do\n",
    "\t    -- Subtracting the mean on each channel makes the values roughly between -128 and 128.\n",
    "\t    -- trainData.normdata[{{}, {i}, {}, {}}]:add(-cifarMean[i])\n",
    "\t    -- valData.normdata[{{}, {i}, {}, {}}]:add(-cifarMean[i])\n",
    "\t    testData.normdata[{{}, {i}, {}, {}}]:add(-cifarMean[i])\n",
    "\t    -- Dividing the std on each channel makes the values roughly between -1 and 1.\n",
    "\t    -- trainData.normdata[{{}, {i}, {}, {}}]:div(cifarStd[i])\n",
    "\t    -- valData.normdata[{{}, {i}, {}, {}}]:div(cifarStd[i])\n",
    "\t    testData.normdata[{{}, {i}, {}, {}}]:div(cifarStd[i])\n",
    "\tend\n",
    "\n",
    "\treturn testData\n",
    "end\n",
    "testData = load_test_data()"
   ]
  },
  {
   "cell_type": "code",
   "execution_count": 23,
   "metadata": {
    "collapsed": false
   },
   "outputs": [
    {
     "data": {
      "image/png": "[encoded data removed]",
      "text/plain": [
       "Console does not support images"
      ]
     },
     "metadata": {
      "image/png": {
       "height": 32,
       "width": 32
      }
     },
     "output_type": "display_data"
    },
    {
     "data": {
      "text/plain": [
       "NO.1: Ground truth: truck || Prediction: truck\t\n"
      ]
     },
     "execution_count": 23,
     "metadata": {},
     "output_type": "execute_result"
    },
    {
     "data": {
      "image/png": "[encoded data removed]",
      "text/plain": [
       "Console does not support images"
      ]
     },
     "metadata": {
      "image/png": {
       "height": 32,
       "width": 32
      }
     },
     "output_type": "display_data"
    },
    {
     "data": {
      "text/plain": [
       "NO.2: Ground truth: automobile || Prediction: automobile\t\n"
      ]
     },
     "execution_count": 23,
     "metadata": {},
     "output_type": "execute_result"
    },
    {
     "data": {
      "image/png": "[encoded data removed]",
      "text/plain": [
       "Console does not support images"
      ]
     },
     "metadata": {
      "image/png": {
       "height": 32,
       "width": 32
      }
     },
     "output_type": "display_data"
    },
    {
     "data": {
      "text/plain": [
       "NO.3: Ground truth: dog || Prediction: dog\t\n"
      ]
     },
     "execution_count": 23,
     "metadata": {},
     "output_type": "execute_result"
    },
    {
     "data": {
      "image/png": "[encoded data removed]",
      "text/plain": [
       "Console does not support images"
      ]
     },
     "metadata": {
      "image/png": {
       "height": 32,
       "width": 32
      }
     },
     "output_type": "display_data"
    },
    {
     "data": {
      "text/plain": [
       "NO.4: Ground truth: frog || Prediction: bird\t\n"
      ]
     },
     "execution_count": 23,
     "metadata": {},
     "output_type": "execute_result"
    },
    {
     "data": {
      "image/png": "[encoded data removed]",
      "text/plain": [
       "Console does not support images"
      ]
     },
     "metadata": {
      "image/png": {
       "height": 32,
       "width": 32
      }
     },
     "output_type": "display_data"
    },
    {
     "data": {
      "text/plain": [
       "NO.5: Ground truth: cat || Prediction: cat\t\n"
      ]
     },
     "execution_count": 23,
     "metadata": {},
     "output_type": "execute_result"
    },
    {
     "data": {
      "image/png": "[encoded data removed]",
      "text/plain": [
       "Console does not support images"
      ]
     },
     "metadata": {
      "image/png": {
       "height": 32,
       "width": 32
      }
     },
     "output_type": "display_data"
    },
    {
     "data": {
      "text/plain": [
       "NO.6: Ground truth: airplane || Prediction: airplane\t\n"
      ]
     },
     "execution_count": 23,
     "metadata": {},
     "output_type": "execute_result"
    },
    {
     "data": {
      "image/png": "[encoded data removed]",
      "text/plain": [
       "Console does not support images"
      ]
     },
     "metadata": {
      "image/png": {
       "height": 32,
       "width": 32
      }
     },
     "output_type": "display_data"
    },
    {
     "data": {
      "text/plain": [
       "NO.7: Ground truth: automobile || Prediction: airplane\t\n"
      ]
     },
     "execution_count": 23,
     "metadata": {},
     "output_type": "execute_result"
    },
    {
     "data": {
      "image/png": "[encoded data removed]",
      "text/plain": [
       "Console does not support images"
      ]
     },
     "metadata": {
      "image/png": {
       "height": 32,
       "width": 32
      }
     },
     "output_type": "display_data"
    },
    {
     "data": {
      "text/plain": [
       "NO.8: Ground truth: horse || Prediction: horse\t\n"
      ]
     },
     "execution_count": 23,
     "metadata": {},
     "output_type": "execute_result"
    },
    {
     "data": {
      "image/png": "[encoded data removed]",
      "text/plain": [
       "Console does not support images"
      ]
     },
     "metadata": {
      "image/png": {
       "height": 32,
       "width": 32
      }
     },
     "output_type": "display_data"
    },
    {
     "data": {
      "text/plain": [
       "NO.9: Ground truth: horse || Prediction: horse\t\n"
      ]
     },
     "execution_count": 23,
     "metadata": {},
     "output_type": "execute_result"
    },
    {
     "data": {
      "image/png": "[encoded data removed]",
      "text/plain": [
       "Console does not support images"
      ]
     },
     "metadata": {
      "image/png": {
       "height": 32,
       "width": 32
      }
     },
     "output_type": "display_data"
    },
    {
     "data": {
      "text/plain": [
       "NO.10: Ground truth: horse || Prediction: horse\t\n",
       "\t\n",
       "Test accuracy is 0.8\t\n"
      ]
     },
     "execution_count": 23,
     "metadata": {},
     "output_type": "execute_result"
    }
   ],
   "source": [
    "function main(testSize)\n",
    "\tlocal model = torch.load(\"model/CNN-epoch100.t7\")\n",
    "\n",
    "-- \tlocal testData = load_test_data()\n",
    "\n",
    "\tmodel:evaluate() -- turn on the evaluation mode\n",
    "\n",
    "\t-- need a testSize\n",
    "\tlocal raw_inputs = torch.Tensor(testSize, 3, 32, 32)\n",
    "\tlocal inputs = torch.Tensor(testSize, 3, 32, 32)\n",
    "\tlocal labels = torch.Tensor(testSize)\n",
    "\tfor bi = 1, testSize do\n",
    "\t\tlocal rand_id = torch.random(1, testData.data:size(1))\n",
    "\t\traw_inputs[bi] = testData.data[rand_id]\n",
    "\t\tinputs[bi] = testData.normdata[rand_id]\n",
    "\t\tlabels[bi] = testData.labels[rand_id]\n",
    "\tend\n",
    "\n",
    "\tlocal predictions = model:forward(inputs)\n",
    "\tlocal predicted_label = torch.Tensor(testSize)\n",
    "\tfor i = 1, predictions:size(1) do\n",
    "\t    local _, pos = predictions[i]:max(1)\n",
    "\t    predicted_label[i] = pos[1]\n",
    "\tend\n",
    "\n",
    "\tlocal test_acc = 0\n",
    "\tfor i = 1, predictions:size(1) do\n",
    "\t\titorch.image(raw_inputs[i])\n",
    "\t\tprint(\"NO.\".. i ..\": Ground truth: \".. classes[labels[i]].. \" || Prediction: \".. classes[predicted_label[i]] )\n",
    "\t\tif (predicted_label[i] == labels[i]) then\n",
    "\t\t\ttest_acc = test_acc + 1\n",
    "\t\tend\n",
    "\tend\n",
    "    \n",
    "    print (\"\")\n",
    "\tprint(\"Test accuracy is \"..test_acc/testSize)\n",
    "end\n",
    "\n",
    "main(10)"
   ]
  },
  {
   "cell_type": "code",
   "execution_count": null,
   "metadata": {
    "collapsed": true
   },
   "outputs": [],
   "source": []
  }
 ],
 "metadata": {
  "anaconda-cloud": {},
  "kernelspec": {
   "display_name": "iTorch",
   "language": "lua",
   "name": "itorch"
  },
  "language_info": {
   "name": "lua",
   "version": "5.1"
  }
 },
 "nbformat": 4,
 "nbformat_minor": 1
}
